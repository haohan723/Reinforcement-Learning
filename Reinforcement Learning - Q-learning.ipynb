{
 "cells": [
  {
   "cell_type": "markdown",
   "metadata": {},
   "source": [
    "# Reinforcement Learning"
   ]
  },
  {
   "cell_type": "markdown",
   "metadata": {},
   "source": [
    "## Definition"
   ]
  },
  {
   "cell_type": "markdown",
   "metadata": {},
   "source": [
    "        RL lingo involves anthropomorphizing the algorithm into taking actions to receive rewards. The algorithm is often referred to as an agent that acts with the environment."
   ]
  },
  {
   "cell_type": "markdown",
   "metadata": {},
   "source": [
    "# Model "
   ]
  },
  {
   "cell_type": "code",
   "execution_count": 5,
   "metadata": {},
   "outputs": [],
   "source": [
    "from yahoo_finance import Share\n",
    "import matplotlib.pyplot as plt \n",
    "import numpy as np \n",
    "import pandas as pd\n",
    "import tensorflow as tf \n",
    "import random \n",
    "import seaborn as sns\n",
    "import urllib.request as urllib2\n",
    "from bs4 import BeautifulSoup as bs\n",
    "sns.set(color_codes = True)\n",
    "%matplotlib inline\n",
    "%config InlineBackend.figure_format = 'retina'"
   ]
  },
  {
   "cell_type": "code",
   "execution_count": 6,
   "metadata": {},
   "outputs": [],
   "source": [
    "def get_prices(share_symbol, number_of_days, filename='stock_prices,npy'):\n",
    "    try: \n",
    "        prices = np.load(filename)\n",
    "    except: \n",
    "        data = []\n",
    "        url = \"https://finance.yahoo.com/quote/\" + share_symbol + \"/history/\"\n",
    "        rows = bs(urllib2.urlopen(url).read()).findAll('table')[0].tbody.findAll('tr')\n",
    "\n",
    "        for each_row in rows:\n",
    "            divs = each_row.findAll('td')\n",
    "            if divs[1].span.text  != 'Dividend': #Ignore this row in the table\n",
    "                #I'm only interested in 'Open' price; For other values, play with divs[1 - 5]\n",
    "                data.append({'Date': divs[0].span.text, 'Open': float(divs[1].span.text.replace(',',''))})\n",
    "\n",
    "        prices = np.asarray(data[:number_of_days])\n",
    "        np.save(filename, prices)\n",
    "    stock_prices = prices\n",
    "    return prices\n",
    "        \n",
    "    "
   ]
  },
  {
   "cell_type": "code",
   "execution_count": 7,
   "metadata": {},
   "outputs": [],
   "source": [
    "def plot_prices(prices):\n",
    "    plt.title(\"Openining stock prices\")\n",
    "    plt.xlabel('day')\n",
    "    plt.ylabel('price ($)')\n",
    "    plt.plot(prices)\n",
    "    plt.savefig('prices.png')\n",
    "    plt.show()"
   ]
  },
  {
   "cell_type": "code",
   "execution_count": null,
   "metadata": {
    "scrolled": true
   },
   "outputs": [],
   "source": [
    "if __name__ == '__main__':\n",
    "    AMZN_prices =[]\n",
    "    for i in get_prices('amzn', 1000):\n",
    "        AMZN_prices.append(i)\n",
    "        \n",
    "AMZN_prices[:5]"
   ]
  },
  {
   "cell_type": "markdown",
   "metadata": {},
   "source": [
    "# Defining a Superclass for all decision policies"
   ]
  },
  {
   "cell_type": "code",
   "execution_count": null,
   "metadata": {},
   "outputs": [],
   "source": [
    "class DecisionPolicy: \n",
    "    def select_action(self, current_state):\n",
    "        pass\n",
    "    def update_q(self, state, action, reward,next_state):\n",
    "        pass"
   ]
  },
  {
   "cell_type": "code",
   "execution_count": null,
   "metadata": {},
   "outputs": [],
   "source": [
    "class randomdecision"
   ]
  },
  {
   "cell_type": "code",
   "execution_count": null,
   "metadata": {},
   "outputs": [],
   "source": []
  },
  {
   "cell_type": "code",
   "execution_count": null,
   "metadata": {},
   "outputs": [],
   "source": []
  },
  {
   "cell_type": "code",
   "execution_count": null,
   "metadata": {},
   "outputs": [],
   "source": []
  },
  {
   "cell_type": "code",
   "execution_count": null,
   "metadata": {},
   "outputs": [],
   "source": []
  },
  {
   "cell_type": "code",
   "execution_count": null,
   "metadata": {},
   "outputs": [],
   "source": []
  }
 ],
 "metadata": {
  "kernelspec": {
   "display_name": "Python 3",
   "language": "python",
   "name": "python3"
  },
  "language_info": {
   "codemirror_mode": {
    "name": "ipython",
    "version": 3
   },
   "file_extension": ".py",
   "mimetype": "text/x-python",
   "name": "python",
   "nbconvert_exporter": "python",
   "pygments_lexer": "ipython3",
   "version": "3.6.4"
  }
 },
 "nbformat": 4,
 "nbformat_minor": 2
}
